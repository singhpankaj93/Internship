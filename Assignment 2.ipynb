{
 "cells": [
  {
   "cell_type": "code",
   "execution_count": 9,
   "id": "9bf3ce65",
   "metadata": {},
   "outputs": [
    {
     "name": "stdout",
     "output_type": "stream",
     "text": [
      "Python:Exercises::PHP:exercises:\n"
     ]
    }
   ],
   "source": [
    "#Question 1- Write a Python program to replace all occurrences of a space, comma, or dot with a colon.\n",
    "             #Sample Text- 'Python Exercises, PHP exercises.'\n",
    "             #Expected Output: Python:Exercises::PHP:exercises:\n",
    "        \n",
    "#solutions\n",
    "import re\n",
    "Sample_text='Python Exercises, PHP exercises.'\n",
    "pattern=\"\\s|\\,|\\.\"\n",
    "replaced_string=re.sub(pattern,\":\",Sample_text)\n",
    "print(replaced_string)\n",
    "\n",
    "\n"
   ]
  },
  {
   "cell_type": "code",
   "execution_count": 34,
   "id": "13a1f589",
   "metadata": {},
   "outputs": [
    {
     "data": {
      "text/plain": [
       "0      hello world\n",
       "1             test\n",
       "2    four five six\n",
       "Name: SUMMARY, dtype: object"
      ]
     },
     "execution_count": 34,
     "metadata": {},
     "output_type": "execute_result"
    }
   ],
   "source": [
    "#Question 2-  Create a dataframe using the dictionary below and remove everything (commas (,), !, XXXX, ;, etc.) from the columns except words.\n",
    "              #Dictionary- {'SUMMARY' : ['hello, world!', 'XXXXX test', '123four, five:; six...']}\n",
    "              #Expected output-\n",
    "            #0    hello world\n",
    "            #1           test\n",
    "            #2    four five six\n",
    "            \n",
    "#Solutions\n",
    "\n",
    "import pandas as pd\n",
    "import re\n",
    "import numpy as np\n",
    "Dictionary={'SUMMARY' : ['hello, world!', 'XXXXX test', '123four, five:; six...']}\n",
    "df=pd.DataFrame(Dictionary)\n",
    "df\n",
    "pattern=\"[^a-z\\s]\"\n",
    "df2=df['SUMMARY'].str.replace(pattern,\"\",regex=True)\n",
    "df2\n"
   ]
  },
  {
   "cell_type": "code",
   "execution_count": 51,
   "id": "1a0a5483",
   "metadata": {},
   "outputs": [
    {
     "name": "stdout",
     "output_type": "stream",
     "text": [
      "['once', 'comi', 'from', 'scho', 'ther', 'elep', 'hant']\n"
     ]
    }
   ],
   "source": [
    "#Question 3- Create a function in python to find all words that are at least 4 characters long in a string. The use of the re.compile() method is mandatory.\n",
    "\n",
    "#Solutions\n",
    "\n",
    "import re\n",
    "def find_4_character(string):\n",
    "    pattern=\"\\w{4}\"\n",
    "    pattern_object=re.compile(pattern)\n",
    "    result=pattern_object.findall(string)\n",
    "    return(result)\n",
    "print(find_4_character(\"once we are coming from school ,there was a elephant\"))"
   ]
  },
  {
   "cell_type": "code",
   "execution_count": 55,
   "id": "b7a4b740",
   "metadata": {},
   "outputs": [
    {
     "name": "stdout",
     "output_type": "stream",
     "text": [
      "['once', 'are', 'comin', 'from', 'schoo', 'there', 'was', 'eleph', 'ant']\n"
     ]
    }
   ],
   "source": [
    "#Question 4- Create a function in python to find all three, four, and five character words in a string. The use of the re.compile() method is mandatory.\n",
    "\n",
    "#Solutions\n",
    "\n",
    "import re\n",
    "def find_character(string):\n",
    "    pattern=\"\\w{3,5}\"\n",
    "    pattern_object=re.compile(pattern)\n",
    "    result=pattern_object.findall(string)\n",
    "    return(result)\n",
    "print(find_character(\"once we are coming from school ,there was a elephant\"))"
   ]
  },
  {
   "cell_type": "code",
   "execution_count": 79,
   "id": "67328046",
   "metadata": {},
   "outputs": [
    {
     "ename": "NameError",
     "evalue": "name 'string' is not defined",
     "output_type": "error",
     "traceback": [
      "\u001b[1;31m---------------------------------------------------------------------------\u001b[0m",
      "\u001b[1;31mNameError\u001b[0m                                 Traceback (most recent call last)",
      "Cell \u001b[1;32mIn[79], line 11\u001b[0m\n\u001b[0;32m      9\u001b[0m     pattern_object\u001b[38;5;241m=\u001b[39mre\u001b[38;5;241m.\u001b[39mcompile(pattern)\n\u001b[0;32m     10\u001b[0m     modified_strings \u001b[38;5;241m=\u001b[39m []\n\u001b[1;32m---> 11\u001b[0m \u001b[38;5;28;01mfor\u001b[39;00m strings \u001b[38;5;129;01min\u001b[39;00m \u001b[43mstring\u001b[49m:\n\u001b[0;32m     12\u001b[0m     modified_string\u001b[38;5;241m=\u001b[39mre\u001b[38;5;241m.\u001b[39msub(pattern_object,\u001b[38;5;124m\"\u001b[39m\u001b[38;5;124m\"\u001b[39m,string)\n\u001b[0;32m     13\u001b[0m     modified_strings\u001b[38;5;241m.\u001b[39mappend(modified_string)\n",
      "\u001b[1;31mNameError\u001b[0m: name 'string' is not defined"
     ]
    }
   ],
   "source": [
    "#Question 5- Create a function in Python to remove the parenthesis in a list of strings. The use of the re.compile() method is mandatory.\n",
    "\n",
    "#Solutions\n",
    "\n",
    "import re\n",
    "def remove_parenthesis(string):\n",
    "    \n",
    "    pattern=\"\\(\\)\"\n",
    "    pattern_object=re.compile(pattern)\n",
    "    modified_strings = []\n",
    "for strings in string:\n",
    "    modified_string=re.sub(pattern_object,\"\",string)\n",
    "    modified_strings.append(modified_string)\n",
    "return(modified_strings)\n",
    "print(remove_parenthesis([\"once we are coming from school\",\"there was (25) elephant\",\"there are (76) pigs\",\"(110) birds\"]))"
   ]
  },
  {
   "cell_type": "code",
   "execution_count": null,
   "id": "be52de1b",
   "metadata": {},
   "outputs": [],
   "source": []
  },
  {
   "cell_type": "code",
   "execution_count": null,
   "id": "39dcaa37",
   "metadata": {},
   "outputs": [],
   "source": []
  },
  {
   "cell_type": "code",
   "execution_count": null,
   "id": "3a8fb4b7",
   "metadata": {},
   "outputs": [],
   "source": []
  },
  {
   "cell_type": "code",
   "execution_count": null,
   "id": "5d849759",
   "metadata": {},
   "outputs": [],
   "source": []
  }
 ],
 "metadata": {
  "kernelspec": {
   "display_name": "Python 3 (ipykernel)",
   "language": "python",
   "name": "python3"
  },
  "language_info": {
   "codemirror_mode": {
    "name": "ipython",
    "version": 3
   },
   "file_extension": ".py",
   "mimetype": "text/x-python",
   "name": "python",
   "nbconvert_exporter": "python",
   "pygments_lexer": "ipython3",
   "version": "3.10.9"
  }
 },
 "nbformat": 4,
 "nbformat_minor": 5
}
