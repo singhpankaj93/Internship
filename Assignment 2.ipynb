{
 "cells": [
  {
   "cell_type": "code",
   "execution_count": null,
   "id": "d532f6a4",
   "metadata": {},
   "outputs": [],
   "source": [
    "#Question 1- Write a Python program to replace all occurrences of a space, comma, or dot with a colon.\n",
    "             #Sample Text- 'Python Exercises, PHP exercises.'\n",
    "             #Expected Output: Python:Exercises::PHP:exercises:\n",
    "        \n",
    "#solutions\n",
    "import re\n",
    "Sample_text='Python Exercises, PHP exercises.'\n",
    "pattern=\"\\s|\\,|\\.\"\n",
    "replaced_string=re.sub(pattern,\":\",Sample_text)\n",
    "print(replaced_string)\n",
    "\n",
    "\n"
   ]
  },
  {
   "cell_type": "code",
   "execution_count": null,
   "id": "85ec9b4a",
   "metadata": {},
   "outputs": [],
   "source": [
    "#Question 2-  Create a dataframe using the dictionary below and remove everything (commas (,), !, XXXX, ;, etc.) from the columns except words.\n",
    "              #Dictionary- {'SUMMARY' : ['hello, world!', 'XXXXX test', '123four, five:; six...']}\n",
    "              #Expected output-\n",
    "            #0    hello world\n",
    "            #1           test\n",
    "            #2    four five six\n",
    "            \n",
    "#Solutions\n",
    "\n",
    "import pandas as pd\n",
    "import re\n",
    "import numpy as np\n",
    "Dictionary={'SUMMARY' : ['hello, world!', 'XXXXX test', '123four, five:; six...']}\n",
    "df=pd.DataFrame(Dictionary)\n",
    "df\n",
    "pattern=\"[^a-z\\s]\"\n",
    "df2=df['SUMMARY'].str.replace(pattern,\"\",regex=True)\n",
    "df2\n"
   ]
  },
  {
   "cell_type": "code",
   "execution_count": null,
   "id": "52b2170a",
   "metadata": {},
   "outputs": [],
   "source": [
    "#Question 3- Create a function in python to find all words that are at least 4 characters long in a string. The use of the re.compile() method is mandatory.\n",
    "\n",
    "#Solutions\n",
    "\n",
    "import re\n",
    "def find_4_character(string):\n",
    "    pattern=\"\\w{4}\"\n",
    "    pattern_object=re.compile(pattern)\n",
    "    result=pattern_object.findall(string)\n",
    "    return(result)\n",
    "print(find_4_character(\"once we are coming from school ,there was a elephant\"))"
   ]
  },
  {
   "cell_type": "code",
   "execution_count": null,
   "id": "39c07e54",
   "metadata": {},
   "outputs": [],
   "source": [
    "#Question 4- Create a function in python to find all three, four, and five character words in a string. The use of the re.compile() method is mandatory.\n",
    "\n",
    "#Solutions\n",
    "\n",
    "import re\n",
    "def find_character(string):\n",
    "    pattern=\"\\w{3,5}\"\n",
    "    pattern_object=re.compile(pattern)\n",
    "    result=pattern_object.findall(string)\n",
    "    return(result)\n",
    "print(find_character(\"once we are coming from school ,there was a elephant\"))"
   ]
  },
  {
   "cell_type": "code",
   "execution_count": null,
   "id": "cb534d54",
   "metadata": {},
   "outputs": [],
   "source": [
    "#Question 5- Create a function in Python to remove the parenthesis in a list of strings. The use of the re.compile() method is mandatory.\n",
    "#Sample Text: [\"example (.com)\", \"hr@fliprobo (.com)\", \"github (.com)\", \"Hello (Data Science World)\", \"Data (Scientist)\"]\n",
    "#Expected Output:\n",
    "#example.com\n",
    "#hr@fliprobo.com\n",
    "#github.com\n",
    "#Hello Data Science World\n",
    "#Data Scientist\n",
    "\n",
    "#Solutions\n",
    "\n",
    "import re\n",
    "import pandas as pd\n",
    "def remove_parenthesis(string):\n",
    "    pattern=\"\\(\\)\"\n",
    "    new_pattern = re.compile(pattern)\n",
    "for i in string:\n",
    "    x = new_pattern.sub(pattern,\"\",string) \n",
    "    return(x)\n",
    "Print(string(\"[\"example (.com)\", \"hr@fliprobo (.com)\", \"github (.com)\", \"Hello (Data Science World)\", \"Data (Scientist)\"]\"))"
   ]
  },
  {
   "cell_type": "code",
   "execution_count": null,
   "id": "d85f2df2",
   "metadata": {},
   "outputs": [],
   "source": [
    "#Question 6- Write a python program to remove the parenthesis area from the text stored in the text file using Regular Expression.\n",
    "#Sample Text: [\"example (.com)\", \"hr@fliprobo (.com)\", \"github (.com)\", \"Hello (Data Science World)\", \"Data (Scientist)\"]\n",
    "#Expected Output: [\"example\", \"hr@fliprobo\", \"github\", \"Hello\", \"Data\"]\n",
    "#Note- Store given sample text in the text file and then to remove the parenthesis area from the text.\n",
    "\n",
    "#solutions\n",
    "\n",
    "import re\n",
    "string=[\"example (.com)\", \"hr@fliprobo (.com)\", \"github (.com)\", \"Hello (Data Science World)\", \"Data (Scientist)\"]\n",
    "pattern=\"\\s(\\.A-Za-z)$\"\n",
    "new_string=re.sub(pattern,\"\",string)\n",
    "print(new_string)"
   ]
  },
  {
   "cell_type": "code",
   "execution_count": null,
   "id": "a4e9ef41",
   "metadata": {},
   "outputs": [],
   "source": [
    "#Question 7- Write a regular expression in Python to split a string into uppercase letters.\n",
    "#Sample text: “ImportanceOfRegularExpressionsInPython”\n",
    "#Expected Output: [‘Importance’, ‘Of’, ‘Regular’, ‘Expression’, ‘In’, ‘Python’]\n",
    "\n",
    "#solutions\n",
    "\n",
    "import re\n",
    "pattern=\"[A-Z][^A-Z]*\"\n",
    "String='ImportanceOfRegularExpressionsInPython'\n",
    "upper_case=re.findall(pattern,String)\n",
    "print(upper_case)\n"
   ]
  },
  {
   "cell_type": "code",
   "execution_count": null,
   "id": "385f405e",
   "metadata": {},
   "outputs": [],
   "source": [
    "#Question 8- Create a function in python to insert spaces between words starting with numbers.\n",
    "#Sample Text: “RegularExpression1IsAn2ImportantTopic3InPython\"\n",
    "#Expected Output: RegularExpression 1IsAn 2ImportantTopic 3InPython\n",
    "\n",
    "#solutions\n",
    "import re\n",
    "\n",
    "def insert_spaces(string):\n",
    "    pattern=\"(\\d+)\"\n",
    "    output=re.sub(pattern,r' \\1',string)  # r’ \\1‘ as the replacement string, which adds a space before and after the matched digits\n",
    "    return(output)\n",
    "print(insert_spaces(\"RegularExpression1IsAn2ImportantTopic3InPython\"))\n"
   ]
  },
  {
   "cell_type": "code",
   "execution_count": 2,
   "id": "23429477",
   "metadata": {},
   "outputs": [
    {
     "name": "stdout",
     "output_type": "stream",
     "text": [
      "RegularExpression 1 IsAn 2 ImportantTopic 3 InPython\n"
     ]
    }
   ],
   "source": [
    "#Question 9- Create a function in python to insert spaces between words starting with capital letters or with numbers.\n",
    "#Sample Text: “RegularExpression1IsAn2ImportantTopic3InPython\"\n",
    "#Expected Output:  RegularExpression 1 IsAn 2 ImportantTopic 3 InPython\n",
    "\n",
    "#solutions\n",
    "import re\n",
    "\n",
    "def insert_space(string):\n",
    "    pattern=\"(\\d+)\"\n",
    "    result=re.sub(pattern,r' \\1 ',string)\n",
    "    return(result)\n",
    "print(insert_space(\"RegularExpression1IsAn2ImportantTopic3InPython\"))"
   ]
  },
  {
   "cell_type": "code",
   "execution_count": 108,
   "id": "30dc25b4",
   "metadata": {},
   "outputs": [
    {
     "data": {
      "text/html": [
       "<div>\n",
       "<style scoped>\n",
       "    .dataframe tbody tr th:only-of-type {\n",
       "        vertical-align: middle;\n",
       "    }\n",
       "\n",
       "    .dataframe tbody tr th {\n",
       "        vertical-align: top;\n",
       "    }\n",
       "\n",
       "    .dataframe thead th {\n",
       "        text-align: right;\n",
       "    }\n",
       "</style>\n",
       "<table border=\"1\" class=\"dataframe\">\n",
       "  <thead>\n",
       "    <tr style=\"text-align: right;\">\n",
       "      <th></th>\n",
       "      <th>Country</th>\n",
       "      <th>Region</th>\n",
       "      <th>Happiness Rank</th>\n",
       "      <th>Happiness Score</th>\n",
       "      <th>Standard Error</th>\n",
       "      <th>Economy (GDP per Capita)</th>\n",
       "      <th>Family</th>\n",
       "      <th>Health (Life Expectancy)</th>\n",
       "      <th>Freedom</th>\n",
       "      <th>Trust (Government Corruption)</th>\n",
       "      <th>Generosity</th>\n",
       "      <th>Dystopia Residual</th>\n",
       "      <th>first_five_letters</th>\n",
       "    </tr>\n",
       "  </thead>\n",
       "  <tbody>\n",
       "    <tr>\n",
       "      <th>0</th>\n",
       "      <td>Switzerland</td>\n",
       "      <td>Western Europe</td>\n",
       "      <td>1</td>\n",
       "      <td>7.587</td>\n",
       "      <td>0.03411</td>\n",
       "      <td>1.39651</td>\n",
       "      <td>1.34951</td>\n",
       "      <td>0.94143</td>\n",
       "      <td>0.66557</td>\n",
       "      <td>0.41978</td>\n",
       "      <td>0.29678</td>\n",
       "      <td>2.51738</td>\n",
       "      <td>Switze</td>\n",
       "    </tr>\n",
       "    <tr>\n",
       "      <th>1</th>\n",
       "      <td>Iceland</td>\n",
       "      <td>Western Europe</td>\n",
       "      <td>2</td>\n",
       "      <td>7.561</td>\n",
       "      <td>0.04884</td>\n",
       "      <td>1.30232</td>\n",
       "      <td>1.40223</td>\n",
       "      <td>0.94784</td>\n",
       "      <td>0.62877</td>\n",
       "      <td>0.14145</td>\n",
       "      <td>0.43630</td>\n",
       "      <td>2.70201</td>\n",
       "      <td>Icelan</td>\n",
       "    </tr>\n",
       "    <tr>\n",
       "      <th>2</th>\n",
       "      <td>Denmark</td>\n",
       "      <td>Western Europe</td>\n",
       "      <td>3</td>\n",
       "      <td>7.527</td>\n",
       "      <td>0.03328</td>\n",
       "      <td>1.32548</td>\n",
       "      <td>1.36058</td>\n",
       "      <td>0.87464</td>\n",
       "      <td>0.64938</td>\n",
       "      <td>0.48357</td>\n",
       "      <td>0.34139</td>\n",
       "      <td>2.49204</td>\n",
       "      <td>Denmar</td>\n",
       "    </tr>\n",
       "    <tr>\n",
       "      <th>3</th>\n",
       "      <td>Norway</td>\n",
       "      <td>Western Europe</td>\n",
       "      <td>4</td>\n",
       "      <td>7.522</td>\n",
       "      <td>0.03880</td>\n",
       "      <td>1.45900</td>\n",
       "      <td>1.33095</td>\n",
       "      <td>0.88521</td>\n",
       "      <td>0.66973</td>\n",
       "      <td>0.36503</td>\n",
       "      <td>0.34699</td>\n",
       "      <td>2.46531</td>\n",
       "      <td>Norway</td>\n",
       "    </tr>\n",
       "    <tr>\n",
       "      <th>4</th>\n",
       "      <td>Canada</td>\n",
       "      <td>North America</td>\n",
       "      <td>5</td>\n",
       "      <td>7.427</td>\n",
       "      <td>0.03553</td>\n",
       "      <td>1.32629</td>\n",
       "      <td>1.32261</td>\n",
       "      <td>0.90563</td>\n",
       "      <td>0.63297</td>\n",
       "      <td>0.32957</td>\n",
       "      <td>0.45811</td>\n",
       "      <td>2.45176</td>\n",
       "      <td>Canada</td>\n",
       "    </tr>\n",
       "  </tbody>\n",
       "</table>\n",
       "</div>"
      ],
      "text/plain": [
       "       Country          Region  Happiness Rank  Happiness Score  \\\n",
       "0  Switzerland  Western Europe               1            7.587   \n",
       "1      Iceland  Western Europe               2            7.561   \n",
       "2      Denmark  Western Europe               3            7.527   \n",
       "3       Norway  Western Europe               4            7.522   \n",
       "4       Canada   North America               5            7.427   \n",
       "\n",
       "   Standard Error  Economy (GDP per Capita)   Family  \\\n",
       "0         0.03411                   1.39651  1.34951   \n",
       "1         0.04884                   1.30232  1.40223   \n",
       "2         0.03328                   1.32548  1.36058   \n",
       "3         0.03880                   1.45900  1.33095   \n",
       "4         0.03553                   1.32629  1.32261   \n",
       "\n",
       "   Health (Life Expectancy)  Freedom  Trust (Government Corruption)  \\\n",
       "0                   0.94143  0.66557                        0.41978   \n",
       "1                   0.94784  0.62877                        0.14145   \n",
       "2                   0.87464  0.64938                        0.48357   \n",
       "3                   0.88521  0.66973                        0.36503   \n",
       "4                   0.90563  0.63297                        0.32957   \n",
       "\n",
       "   Generosity  Dystopia Residual first_five_letters  \n",
       "0     0.29678            2.51738             Switze  \n",
       "1     0.43630            2.70201             Icelan  \n",
       "2     0.34139            2.49204             Denmar  \n",
       "3     0.34699            2.46531             Norway  \n",
       "4     0.45811            2.45176             Canada  "
      ]
     },
     "execution_count": 108,
     "metadata": {},
     "output_type": "execute_result"
    }
   ],
   "source": [
    "#Question 10- Use the github link below to read the data and create a dataframe. After creating the dataframe extract the first 6 letters of each country and store in the dataframe under a new column called first_five_letters.\n",
    "#Github Link-  https://raw.githubusercontent.com/dsrscientist/DSData/master/happiness_score_dataset.csv\n",
    "\n",
    "#solutions\n",
    "\n",
    "import pandas as pd\n",
    "url = \"https://raw.githubusercontent.com/dsrscientist/DSData/master/happiness_score_dataset.csv\"\n",
    "df = pd.read_csv(url)\n",
    "\n",
    "df['first_five_letters'] = df['Country'].apply(lambda x: x[:6])\n",
    "df.head()"
   ]
  },
  {
   "cell_type": "code",
   "execution_count": 26,
   "id": "51e45e07",
   "metadata": {},
   "outputs": [
    {
     "name": "stdout",
     "output_type": "stream",
     "text": [
      "True\n"
     ]
    }
   ],
   "source": [
    "#Question 11- Write a Python program to match a string that contains only upper and lowercase letters, numbers, and underscores.\n",
    "\n",
    "#solutions\n",
    "\n",
    "import re\n",
    "\n",
    "def match_string(string):\n",
    "  pattern=\"\\w\"\n",
    "  if re.match(pattern,string):\n",
    "   return True\n",
    "  else:\n",
    "   return False\n",
    "print(match_string(\"Pankaj score 95 marks out of 100 i.e 95/100\"))\n",
    "\n",
    "\n",
    "\n",
    "\n"
   ]
  },
  {
   "cell_type": "code",
   "execution_count": 29,
   "id": "d03b6cdd",
   "metadata": {},
   "outputs": [
    {
     "name": "stdout",
     "output_type": "stream",
     "text": [
      "True\n",
      "True\n",
      "False\n"
     ]
    }
   ],
   "source": [
    "# Question 12- Write a Python program where a string will start with a specific number\n",
    "\n",
    "#solitions\n",
    "import re\n",
    "def specific_num(string):\n",
    "    pattern=\"^011-\"\n",
    "    if re.match(pattern,string):\n",
    "      return True\n",
    "    else:\n",
    "        return False\n",
    "print(specific_num(\"011-9875578088\"))\n",
    "print(specific_num(\"011-9876668088\"))\n",
    "print(specific_num(\"9876578088\"))\n"
   ]
  },
  {
   "cell_type": "code",
   "execution_count": 100,
   "id": "1765b761",
   "metadata": {},
   "outputs": [
    {
     "name": "stdout",
     "output_type": "stream",
     "text": [
      "190.168.23.2\n"
     ]
    }
   ],
   "source": [
    "#Question 13- Write a Python program to remove leading zeros from an IP address\n",
    "\n",
    "#solutions\n",
    "import re\n",
    "ip=\"190.168.023.002\"\n",
    "pattern=\"(\\.[0]*)\"\n",
    "ip2=re.sub(pattern,'.',ip)\n",
    "print(ip2)\n",
    "  \n",
    "\n"
   ]
  },
  {
   "cell_type": "code",
   "execution_count": 98,
   "id": "1cdaad7f",
   "metadata": {},
   "outputs": [
    {
     "name": "stdout",
     "output_type": "stream",
     "text": [
      "[]\n"
     ]
    }
   ],
   "source": [
    "#Question 14- Write a regular expression in python to match a date string in the form of Month name followed by day number\n",
    "#and year stored in a text file.\n",
    "\n",
    "#solutions\n",
    "\n",
    "import re\n",
    "text=\"on the day of August 16th 1993 pankaj has his birhday\"\n",
    "pattern=r\"\\w+\\s\\d{1-2}(th|st|nd|rd)? \\d{4}\"\n",
    "match=re.findall(pattern,text)\n",
    "print(match)\n",
    "\n",
    "#r\"\\b([A-Z][a-z]+) \\d{1-2}(?:th|st|nd|rd)? \\d{4}\\b\""
   ]
  },
  {
   "cell_type": "code",
   "execution_count": 93,
   "id": "1289b2c5",
   "metadata": {},
   "outputs": [
    {
     "name": "stdout",
     "output_type": "stream",
     "text": [
      "Searching for \"fox\" in \"The quick brown fox jumps over the lazy dog.\" ->\n",
      "Matched!\n",
      "Searching for \"dog\" in \"The quick brown fox jumps over the lazy dog.\" ->\n",
      "Matched!\n",
      "Searching for \"horse\" in \"The quick brown fox jumps over the lazy dog.\" ->\n",
      "Not Matched!\n"
     ]
    }
   ],
   "source": [
    "#Question 15- Write a Python program to search some literals strings in a string. \n",
    "#Sample text : 'The quick brown fox jumps over the lazy dog.'\n",
    "#Searched words : 'fox', 'dog', 'horse'\n",
    "\n",
    "#solutions\n",
    "\n",
    "\n",
    "\n",
    "import re\n",
    "patterns = [ 'fox', 'dog', 'horse' ]\n",
    "text = 'The quick brown fox jumps over the lazy dog.'\n",
    "for pattern in patterns:\n",
    "    print('Searching for \"%s\" in \"%s\" ->' % (pattern, text),)\n",
    "    if re.search(pattern,  text):\n",
    "        print('Matched!')\n",
    "    else:\n",
    "        print('Not Matched!')"
   ]
  },
  {
   "cell_type": "code",
   "execution_count": 14,
   "id": "4f3e305e",
   "metadata": {},
   "outputs": [
    {
     "name": "stdout",
     "output_type": "stream",
     "text": [
      "literal string  <re.Match object; span=(16, 19), match='fox'>\n",
      "location of pattern 16 19\n"
     ]
    }
   ],
   "source": [
    "#Question 16- Write a Python program to search a literals string in a string and also find the location within the original string where the pattern occurs\n",
    "#Sample text : 'The quick brown fox jumps over the lazy dog.'\n",
    "#Searched words : 'fox'\n",
    "\n",
    "#solutions\n",
    "\n",
    "\n",
    "import re\n",
    "pattern=\"fox\"\n",
    "text=\"The quick brown fox jumps over the lazy dog.\"\n",
    "string=re.search(pattern,text)\n",
    "s=string.start()\n",
    "e=string.end()\n",
    "print(\"literal string \",string)\n",
    "print(\"location of pattern\",s,e)\n",
    "\n",
    "\n"
   ]
  },
  {
   "cell_type": "code",
   "execution_count": 8,
   "id": "101a9164",
   "metadata": {},
   "outputs": [
    {
     "name": "stdout",
     "output_type": "stream",
     "text": [
      "['exercises', 'exercises', 'exercises']\n"
     ]
    }
   ],
   "source": [
    "#Question 17- Write a Python program to find the substrings within a string.\n",
    "#Sample text : 'Python exercises, PHP exercises, C# exercises'\n",
    "#Pattern : 'exercises'\n",
    "\n",
    "#solutions\n",
    "\n",
    "import re\n",
    "pattern=\"exercises\"\n",
    "text=\"Python exercises, PHP exercises, C# exercises\"\n",
    "text2=re.findall(pattern,text)\n",
    "print(text2)\n",
    "  "
   ]
  },
  {
   "cell_type": "code",
   "execution_count": 48,
   "id": "6e3b0755",
   "metadata": {},
   "outputs": [
    {
     "name": "stdout",
     "output_type": "stream",
     "text": [
      "Found \"exercises\" at 7:16\n",
      "Found \"exercises\" at 22:31\n",
      "Found \"exercises\" at 36:45\n"
     ]
    }
   ],
   "source": [
    "#Question 18- Write a Python program to find the occurrence and position of the substrings within a string.\n",
    "\n",
    "#solutions\n",
    "\n",
    "import re\n",
    "text = 'Python exercises, PHP exercises, C# exercises'\n",
    "pattern = 'exercises'\n",
    "for match in re.finditer(pattern, text):\n",
    "    s = match.start()\n",
    "    e = match.end()\n",
    "    print('Found \"%s\" at %d:%d' % (text[s:e], s, e))\n",
    "\n",
    "\n",
    "\n",
    "\n"
   ]
  },
  {
   "cell_type": "code",
   "execution_count": 70,
   "id": "eb8d3c9b",
   "metadata": {},
   "outputs": [
    {
     "name": "stdout",
     "output_type": "stream",
     "text": [
      "birthday date in YYY-MM-DD Format:  1993-08-16\n",
      "New date in DD-MM-YYYY Format:  16-08-1993\n"
     ]
    }
   ],
   "source": [
    "#Question 19- Write a Python program to convert a date of yyyy-mm-dd format to dd-mm-yyyy format.\n",
    "\n",
    "#solutions\n",
    "\n",
    "import re\n",
    "def change_date_format(date):\n",
    "        return re.sub(r'(\\d{4})-(\\d{1,2})-(\\d{1,2})', '\\\\3-\\\\2-\\\\1', date)\n",
    "date1 = \"1993-08-16\"\n",
    "print(\"birthday date in YYY-MM-DD Format: \",date1)\n",
    "print(\"New date in DD-MM-YYYY Format: \",change_date_format(date1))"
   ]
  },
  {
   "cell_type": "code",
   "execution_count": 83,
   "id": "14bd5139",
   "metadata": {},
   "outputs": [
    {
     "name": "stdout",
     "output_type": "stream",
     "text": [
      "['01.12', '0132.12', '2.31', '145.8', '3.01', '27.25', '0.25']\n"
     ]
    }
   ],
   "source": [
    "#Question 20- Create a function in python to find all decimal numbers with a precision of 1 or 2 in a string. The use of the re.compile() method is mandatory.\n",
    "#Sample Text: \"01.12 0132.123 2.31875 145.8 3.01 27.25 0.25\"\n",
    "#Expected Output: ['01.12', '145.8', '3.01', '27.25', '0.25']\n",
    "\n",
    "#solutions\n",
    "\n",
    "import re\n",
    "def find_decimal(text):\n",
    "    pattern=\"\\d+\\.\\d{1,2}\"\n",
    "    string=re.compile(pattern)\n",
    "    output=string.findall(text)\n",
    "    return output\n",
    "print(find_decimal(\"01.12 0132.123 2.31875 145.8 3.01 27.25 0.25\"))\n"
   ]
  },
  {
   "cell_type": "code",
   "execution_count": 3,
   "id": "52726a96",
   "metadata": {},
   "outputs": [
    {
     "name": "stdout",
     "output_type": "stream",
     "text": [
      "57\n",
      "Index position: 10\n",
      "72\n",
      "Index position: 39\n"
     ]
    }
   ],
   "source": [
    "#Question 21- Write a Python program to separate and print the numbers and their position of a given string.\n",
    "\n",
    "#solutions\n",
    "import re\n",
    "text = \"There are 57 oranges in the basket and 72 apples in the bag\"\n",
    "for m in re.finditer(\"\\d+\", text):\n",
    "    print(m.group(0))\n",
    "    print(\"Index position:\", m.start())"
   ]
  },
  {
   "cell_type": "code",
   "execution_count": 82,
   "id": "a07a9ea4",
   "metadata": {},
   "outputs": [
    {
     "name": "stdout",
     "output_type": "stream",
     "text": [
      "950\n"
     ]
    }
   ],
   "source": [
    "#Question 22- Write a regular expression in python program to extract maximum/largest numeric value from a string.\n",
    "#Sample Text:  'My marks in each semester are: 947, 896, 926, 524, 734, 950, 642'\n",
    "#Expected Output: 950\n",
    "\n",
    "#solutions\n",
    "\n",
    "import re\n",
    "\n",
    "input_string = 'My marks in each semester are: 947, 896, 926, 524, 734, 950, 642'\n",
    "\n",
    "numeric_values = re.findall(r'\\d+', input_string)\n",
    "numeric_values = [int(value) for value in numeric_values]\n",
    "max_value = max(numeric_values)\n",
    "print(max_value)"
   ]
  },
  {
   "cell_type": "code",
   "execution_count": 25,
   "id": "1995eba6",
   "metadata": {},
   "outputs": [
    {
     "name": "stdout",
     "output_type": "stream",
     "text": [
      "['Regular', 'Expression', 'Is', 'An', 'Important', 'Topic', 'In', 'Python']\n",
      "Regular Expression Is An Important Topic In Python\n"
     ]
    }
   ],
   "source": [
    "#Question 23- Create a function in python to insert spaces between words starting with capital letters.\n",
    "#Sample Text: “RegularExpressionIsAnImportantTopicInPython\"\n",
    "#Expected Output: Regular Expression Is An Important Topic In Python\n",
    "\n",
    "#solutions\n",
    "\n",
    "import re\n",
    "#input\n",
    "string='RegularExpressionIsAnImportantTopicInPython'\n",
    "#Find the words in string starting with uppercase letter. \n",
    "words = re.findall('[A-Z][a-z]*', string)\n",
    "print(words)\n",
    "#concatenate the word with space\n",
    "print(' '.join((words)))\n"
   ]
  },
  {
   "cell_type": "code",
   "execution_count": 80,
   "id": "d26af9f5",
   "metadata": {},
   "outputs": [
    {
     "name": "stdout",
     "output_type": "stream",
     "text": [
      "not matched\n",
      "None\n",
      "not matched\n",
      "None\n",
      "not matched\n",
      "None\n",
      "match\n",
      "None\n",
      "match\n",
      "None\n"
     ]
    }
   ],
   "source": [
    "#Question 24- Python regex to find sequences of one upper case letter followed by lower case letters\n",
    "\n",
    "#solutions\n",
    "import re\n",
    "def string(text):\n",
    "    pattern=\"[A-Z]+[a-z]+\"\n",
    "    if re.search(pattern,text):\n",
    "       print(\"match\")\n",
    "    else:\n",
    "       print(\"not matched\")\n",
    "print(string(\"bbbbcccc\"))\n",
    "print(string(\"ccccc\"))\n",
    "print(string(\"AAAAAAA\"))\n",
    "print(string(\"aAAa\"))\n",
    "print(string(\"AAAaaa\"))\n"
   ]
  },
  {
   "cell_type": "code",
   "execution_count": 72,
   "id": "89118ee1",
   "metadata": {},
   "outputs": [
    {
     "name": "stdout",
     "output_type": "stream",
     "text": [
      "Hello hello world\n"
     ]
    }
   ],
   "source": [
    "#Question 25- Write a Python program to remove continuous duplicate words from Sentence using Regular Expression.\n",
    "#Sample Text: \"Hello hello world world\"\n",
    "#Expected Output: Hello hello world\n",
    "    \n",
    "#solutions\n",
    "import re\n",
    "\n",
    "def remove_duplicates(text):\n",
    "  pattern = r'\\b(\\w+)(\\s+\\1\\b)+'\n",
    "  result = re.sub(pattern, r'\\1', sentence)\n",
    "  return result\n",
    "sentence = \"Hello hello world world\"\n",
    "output = remove_duplicates(sentence)\n",
    "print(output)\n"
   ]
  },
  {
   "cell_type": "code",
   "execution_count": 34,
   "id": "2e34db5d",
   "metadata": {},
   "outputs": [
    {
     "name": "stdout",
     "output_type": "stream",
     "text": [
      "Not accept\n"
     ]
    }
   ],
   "source": [
    "#Question 26-  Write a python program using RegEx to accept string ending with alphanumeric character.\n",
    "\n",
    "#solutions\n",
    "\n",
    "import re\n",
    "pattern=\"[A-Za-z0-9]$\"\n",
    "string=\"ram has 43 manoges and 56 apples \"\n",
    "if re.findall(pattern,string):\n",
    "    print(\"Accept\")\n",
    "else:\n",
    "    print(\"Not accept\")\n",
    "\n"
   ]
  },
  {
   "cell_type": "code",
   "execution_count": 36,
   "id": "373bec89",
   "metadata": {},
   "outputs": [
    {
     "name": "stdout",
     "output_type": "stream",
     "text": [
      "['#Doltiwal', '#xyzabc', '#Demonetization']\n"
     ]
    }
   ],
   "source": [
    "#Question 27-Write a python program using RegEx to extract the hashtags.\n",
    "#Sample Text:  \"\"\"RT @kapil_kausik: #Doltiwal I mean #xyzabc is \"hurt\" by #Demonetization as the same has rendered USELESS <ed><U+00A0><U+00BD><ed><U+00B1><U+0089> \"acquired funds\" No wo\"\"\"\n",
    "#Expected Output: ['#Doltiwal', '#xyzabc', '#Demonetization']\n",
    "\n",
    "#solutions\n",
    "import re\n",
    "pattern=\"#\\w+\"\n",
    "string=\"\"\"RT @kapil_kausik: #Doltiwal I mean #xyzabc is \"hurt\" by #Demonetization as the same has rendered USELESS <ed><U+00A0><U+00BD><ed><U+00B1><U+0089> \"acquired funds\" No wo\"\"\"\n",
    "hashtag=re.findall(pattern,string)\n",
    "print(hashtag)\n",
    "\n"
   ]
  },
  {
   "cell_type": "code",
   "execution_count": 43,
   "id": "c727c95e",
   "metadata": {},
   "outputs": [
    {
     "name": "stdout",
     "output_type": "stream",
     "text": [
      "@Jags123456 Bharat band on 28??<ed><ed>Those who  are protesting #demonetization  are all different party leaders\n"
     ]
    }
   ],
   "source": [
    "#Question 28- Write a python program using RegEx to remove <U+..> like symbols\n",
    "#Check the below sample text, there are strange symbols something of the sort <U+..> all over the place. You need to come up with a general Regex expression that will cover all such symbols.\n",
    "#Sample Text: \"@Jags123456 Bharat band on 28??<ed><U+00A0><U+00BD><ed><U+00B8><U+0082>Those who  are protesting #demonetization  are all different party leaders\"\n",
    "#Expected Output: @Jags123456 Bharat band on 28??<ed><ed>Those who  are protesting #demonetization  are all different party leaders\n",
    "\n",
    "#solutions\n",
    "\n",
    "import re\n",
    "pattern=\"<U\\+\\w{4}>\"\n",
    "string=\"@Jags123456 Bharat band on 28??<ed><U+00A0><U+00BD><ed><U+00B8><U+0082>Those who  are protesting #demonetization  are all different party leaders\"\n",
    "result=re.sub(pattern,\"\",string)\n",
    "print(result)\n"
   ]
  },
  {
   "cell_type": "code",
   "execution_count": 45,
   "id": "25108d53",
   "metadata": {},
   "outputs": [
    {
     "name": "stdout",
     "output_type": "stream",
     "text": [
      "['12-09-1992', '15-12-1999']\n"
     ]
    }
   ],
   "source": [
    "#Question 29- Write a python program to extract dates from the text stored in the text file.\n",
    "#Sample Text: Ron was born on 12-09-1992 and he was admitted to school 15-12-1999.\n",
    "#Note- Store this sample text in the file and then extract dates.\n",
    "\n",
    "#solutions\n",
    "import re\n",
    "pattern=\"\\d{2}-\\d{2}-\\d{4}\"\n",
    "text_file=\"Ron was born on 12-09-1992 and he was admitted to school 15-12-1999.\"\n",
    "extract=re.findall(pattern,text_file)\n",
    "print(extract)\n"
   ]
  },
  {
   "cell_type": "code",
   "execution_count": 71,
   "id": "e12ca87c",
   "metadata": {},
   "outputs": [
    {
     "name": "stdout",
     "output_type": "stream",
     "text": [
      " following example creates  ArrayList  a capacity   elements. 4 elements   added   ArrayList   ArrayList  trimmed accordingly.\n"
     ]
    }
   ],
   "source": [
    "#Question 30- Create a function in python to remove all words from a string of length between 2 and 4.\n",
    "#The use of the re.compile() method is mandatory.\n",
    "#Sample Text: \"The following example creates an ArrayList with a capacity of 50 elements. 4 elements are then added to the ArrayList and the ArrayList is trimmed accordingly.\"\n",
    "#Expected Output:  following example creates ArrayList a capacity elements. 4 elements added ArrayList ArrayList trimmed accordingly.\n",
    "\n",
    "#solutions\n",
    "\n",
    "import re\n",
    "def remove_words(string):\n",
    "  pattern = re.compile(r'\\b\\w{2,4}\\b')\n",
    "  new_string = re.sub(pattern, '', string)\n",
    "  return new_string\n",
    "sample_text=\"The following example creates an ArrayList with a capacity of 50 elements. 4 elements are then added to the ArrayList and the ArrayList is trimmed accordingly.\"\n",
    "result=remove_words(sample_text)\n",
    "print(result)"
   ]
  },
  {
   "cell_type": "code",
   "execution_count": null,
   "id": "11f589db",
   "metadata": {},
   "outputs": [],
   "source": []
  },
  {
   "cell_type": "code",
   "execution_count": null,
   "id": "d1dfdf64",
   "metadata": {},
   "outputs": [],
   "source": []
  },
  {
   "cell_type": "code",
   "execution_count": null,
   "id": "352d720a",
   "metadata": {},
   "outputs": [],
   "source": []
  }
 ],
 "metadata": {
  "kernelspec": {
   "display_name": "Python 3 (ipykernel)",
   "language": "python",
   "name": "python3"
  },
  "language_info": {
   "codemirror_mode": {
    "name": "ipython",
    "version": 3
   },
   "file_extension": ".py",
   "mimetype": "text/x-python",
   "name": "python",
   "nbconvert_exporter": "python",
   "pygments_lexer": "ipython3",
   "version": "3.10.9"
  }
 },
 "nbformat": 4,
 "nbformat_minor": 5
}
