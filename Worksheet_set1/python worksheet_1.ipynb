{
 "cells": [
  {
   "cell_type": "code",
   "execution_count": null,
   "id": "4782cebb",
   "metadata": {},
   "outputs": [],
   "source": [
    "#Q-11 Write a python program to find the factorial of a number.\n",
    "       \n",
    "def factorial(n):\n",
    "       \n",
    "    res = 1\n",
    "      \n",
    "    for i in range(2, n+1):\n",
    "        res =res* i\n",
    "    return res\n",
    " # Driver Code\n",
    "num = 5\n",
    "print(\"Factorial of\", num, \"is\",\n",
    "factorial(num))\n",
    "\n"
   ]
  },
  {
   "cell_type": "code",
   "execution_count": null,
   "id": "4c4e447b",
   "metadata": {},
   "outputs": [],
   "source": [
    "#Q-12 Write a python program to find whether a number is prime or composite. \n",
    "\n",
    "num = int(input(\"Enter any number : \"))\n",
    "if num > 1:\n",
    "    for i in range(2, num):\n",
    "        if (num % i) == 0:\n",
    "            print(num, \"is NOT a PRIME number, it is a COMPOSITE number\")\n",
    "            break\n",
    "    else:\n",
    "        print(num, \"is a PRIME number\")\n",
    "elif num == 0 or 1:\n",
    "    print(num, \"is a neither Prime NOR Composite number\")\n",
    "                \n",
    "                \n",
    "                \n",
    "                \n"
   ]
  },
  {
   "cell_type": "markdown",
   "id": "727061a3",
   "metadata": {},
   "source": []
  },
  {
   "cell_type": "code",
   "execution_count": null,
   "id": "d619615c",
   "metadata": {},
   "outputs": [],
   "source": [
    "#13 Write a python program to check whether a given string is palindrome or not. \n",
    "def isPalindrome(str):\n",
    " \n",
    "    # Run loop from 0 to len/2\n",
    "    for i in range(0, int(len(str)/2)):\n",
    "        if str[i] != str[len(str)-i-1]:\n",
    "            return False\n",
    "    return True\n",
    " \n",
    "# main function\n",
    "s = \"malayalam\"\n",
    "ans = isPalindrome(s)\n",
    " \n",
    "if (ans):\n",
    "    print(\"Yes\")\n",
    "else:\n",
    "    print(\"No\")"
   ]
  },
  {
   "cell_type": "code",
   "execution_count": null,
   "id": "b7bb5b81",
   "metadata": {},
   "outputs": [],
   "source": [
    "#14 Write a Python program to get the third side of right-angled triangle from two given sides.\n",
    "\n",
    "def third_side(first,second):\n",
    "    third=((first**2)+(second**2))**0.5\n",
    "    print(\"third side is :\",third) \n",
    "a=float(input(\"enter first side :\"))\n",
    "b=float(input(\"enter second side :\"))\n",
    "\n",
    "third_side(a,b)\n",
    "    \n",
    "    \n",
    "    "
   ]
  },
  {
   "cell_type": "code",
   "execution_count": 15,
   "id": "163cb971",
   "metadata": {},
   "outputs": [
    {
     "name": "stdout",
     "output_type": "stream",
     "text": [
      "{'M': 1, 'u': 1, 's': 2, 't': 2, 'a': 3, 'f': 1, ' ': 4, 'i': 1, 'o': 1, 'n': 1, 'h': 1, 'e': 1, 'w': 1, 'y': 1}\n"
     ]
    }
   ],
   "source": [
    "#Write a python program to print the frequency of each of the characters present in a given string.\n",
    "\n",
    "str= \"Mustafa is on the way\"\n",
    "dict = {}\n",
    "\n",
    "for i in str:\n",
    "     if i in dict:          # if i already appears as key in dict, increment the count\n",
    "        dict[i] += 1            \n",
    "     else:\n",
    "        dict[i] = 1         # else i appears for the first time, add to dict\n",
    "print(dict)\n"
   ]
  },
  {
   "cell_type": "code",
   "execution_count": null,
   "id": "51ffe8ba",
   "metadata": {},
   "outputs": [],
   "source": []
  }
 ],
 "metadata": {
  "kernelspec": {
   "display_name": "Python 3 (ipykernel)",
   "language": "python",
   "name": "python3"
  },
  "language_info": {
   "codemirror_mode": {
    "name": "ipython",
    "version": 3
   },
   "file_extension": ".py",
   "mimetype": "text/x-python",
   "name": "python",
   "nbconvert_exporter": "python",
   "pygments_lexer": "ipython3",
   "version": "3.10.9"
  }
 },
 "nbformat": 4,
 "nbformat_minor": 5
}
